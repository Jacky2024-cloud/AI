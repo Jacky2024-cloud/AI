{
  "nbformat": 4,
  "nbformat_minor": 0,
  "metadata": {
    "colab": {
      "provenance": []
    },
    "kernelspec": {
      "name": "python3",
      "display_name": "Python 3"
    },
    "language_info": {
      "name": "python"
    },
    "accelerator": "GPU",
    "gpuClass": "standard"
  },
  "cells": [
    {
      "cell_type": "code",
      "source": [
        "import requests\n",
        "\n",
        "\n",
        "train_url = \"https://github.com/shhuangmust/AI/raw/111-2/Google_Stock_Price_Train.csv\"\n",
        "test_url = \"https://github.com/shhuangmust/AI/raw/111-2/Google_Stock_Price_Test.csv\"\n",
        "\n",
        "\n",
        "response_train = requests.get(train_url)\n",
        "with open(\"Google_Stock_Price_Train.csv\", \"wb\") as file:\n",
        "    file.write(response_train.content)\n",
        "\n",
        "\n",
        "response_test = requests.get(test_url)\n",
        "with open(\"Google_Stock_Price_Test.csv\", \"wb\") as file:\n",
        "    file.write(response_test.content)\n",
        "\n",
        "print(\"Files downloaded successfully.\")\n"
      ],
      "metadata": {
        "colab": {
          "base_uri": "https://localhost:8080/"
        },
        "id": "Zs53bM-gKOsc",
        "outputId": "e8a6867f-745a-463f-85da-28658b516faf"
      },
      "execution_count": 1,
      "outputs": [
        {
          "output_type": "stream",
          "name": "stdout",
          "text": [
            "Files downloaded successfully.\n"
          ]
        }
      ]
    },
    {
      "cell_type": "code",
      "execution_count": 2,
      "metadata": {
        "id": "iEPIpx_NI7U_",
        "outputId": "c02652bd-5e14-4566-bee4-93792b7e99dc",
        "colab": {
          "base_uri": "https://localhost:8080/"
        }
      },
      "outputs": [
        {
          "output_type": "stream",
          "name": "stdout",
          "text": [
            "       Date    Open    High     Low   Close      Volume\n",
            "0  1/3/2012  325.25  332.83  324.97  663.59   7,380,500\n",
            "1  1/4/2012  331.27  333.87  329.08  666.45   5,749,400\n",
            "2  1/5/2012  329.83  330.75  326.89  657.21   6,590,300\n",
            "3  1/6/2012  328.34  328.77  323.68  648.24   5,405,900\n",
            "4  1/9/2012  322.04  322.29  309.46  620.76  11,688,800\n",
            "X_train shape: (1198, 60, 1), y_train shape: (1198,)\n"
          ]
        }
      ],
      "source": [
        "\n",
        "# Import the libraries\n",
        "import numpy as np\n",
        "import matplotlib.pyplot as plt  # for plotting\n",
        "import pandas as pd\n",
        "from sklearn.preprocessing import MinMaxScaler\n",
        "\n",
        "# Import the training set\n",
        "try:\n",
        "    dataset_train = pd.read_csv('Google_Stock_Price_Train.csv')  # 讀取訓練集\n",
        "except FileNotFoundError:\n",
        "    print(\"CSV file not found. Please make sure the file exists in the specified path.\")\n",
        "    raise\n",
        "\n",
        "# Check the data structure (optional)\n",
        "print(dataset_train.head())\n",
        "\n",
        "# Select the \"Open\" column values\n",
        "training_set = dataset_train.iloc[:, 1:2].values  # 取「Open」欄位值\n",
        "\n",
        "# Feature Scaling\n",
        "sc = MinMaxScaler(feature_range=(0, 1))\n",
        "training_set_scaled = sc.fit_transform(training_set)\n",
        "\n",
        "# Prepare the training data\n",
        "X_train = []   # 預測點的前 60 天的資料\n",
        "y_train = []   # 預測點\n",
        "for i in range(60, len(training_set_scaled)):  # 使用 len(training_set_scaled) 以便自動調整\n",
        "    X_train.append(training_set_scaled[i-60:i, 0])  # 取前60天資料\n",
        "    y_train.append(training_set_scaled[i, 0])  # 預測當前點\n",
        "\n",
        "# Convert to numpy arrays\n",
        "X_train, y_train = np.array(X_train), np.array(y_train)\n",
        "\n",
        "# Reshape the data to fit into RNN [samples, time steps, features]\n",
        "X_train = np.reshape(X_train, (X_train.shape[0], X_train.shape[1], 1))\n",
        "\n",
        "# Check the shape of the data (optional)\n",
        "print(f'X_train shape: {X_train.shape}, y_train shape: {y_train.shape}')\n",
        "\n"
      ]
    },
    {
      "cell_type": "code",
      "source": [
        "# Import the Keras libraries and packages\n",
        "from keras.models import Sequential\n",
        "from keras.layers import Dense\n",
        "from keras.layers import LSTM\n",
        "from keras.layers import Dropout\n",
        "\n",
        "# Initialising the RNN\n",
        "regressor = Sequential()\n",
        "# Adding the first LSTM layer and some Dropout regularisation\n",
        "regressor.add(LSTM(units = 50, return_sequences = True, input_shape = (X_train.shape[1], 1)))\n",
        "regressor.add(Dropout(0.2))\n",
        "\n",
        "# Adding a second LSTM layer and some Dropout regularisation\n",
        "regressor.add(LSTM(units = 50, return_sequences = True))\n",
        "regressor.add(Dropout(0.2))\n",
        "\n",
        "# Adding a third LSTM layer and some Dropout regularisation\n",
        "regressor.add(LSTM(units = 50, return_sequences = True))\n",
        "regressor.add(Dropout(0.2))\n",
        "\n",
        "# Adding a fourth LSTM layer and some Dropout regularisation\n",
        "regressor.add(LSTM(units = 50))\n",
        "regressor.add(Dropout(0.2))\n",
        "# Adding the output layer\n",
        "regressor.add(Dense(units = 1))\n",
        "# Compiling\n",
        "regressor.compile(optimizer = 'adam', loss = 'mean_squared_error')\n",
        "\n",
        "# 進行訓練\n",
        "regressor.fit(X_train, y_train, epochs = 65, batch_size = 32)"
      ],
      "metadata": {
        "colab": {
          "base_uri": "https://localhost:8080/"
        },
        "id": "6bn2CHbZJMPm",
        "outputId": "696f282d-c8cf-4118-9b01-27373f53f669"
      },
      "execution_count": null,
      "outputs": [
        {
          "output_type": "stream",
          "name": "stdout",
          "text": [
            "Epoch 1/65\n",
            "38/38 [==============================] - 5s 16ms/step - loss: 0.0353\n",
            "Epoch 2/65\n",
            "38/38 [==============================] - 1s 14ms/step - loss: 0.0061\n",
            "Epoch 3/65\n",
            "38/38 [==============================] - 1s 14ms/step - loss: 0.0057\n",
            "Epoch 4/65\n",
            "38/38 [==============================] - 1s 14ms/step - loss: 0.0054\n",
            "Epoch 5/65\n",
            "38/38 [==============================] - 1s 14ms/step - loss: 0.0056\n",
            "Epoch 6/65\n",
            "38/38 [==============================] - 1s 13ms/step - loss: 0.0046\n",
            "Epoch 7/65\n",
            "38/38 [==============================] - 1s 14ms/step - loss: 0.0050\n",
            "Epoch 8/65\n",
            "38/38 [==============================] - 1s 14ms/step - loss: 0.0050\n",
            "Epoch 9/65\n",
            "38/38 [==============================] - 1s 14ms/step - loss: 0.0048\n",
            "Epoch 10/65\n",
            "38/38 [==============================] - 1s 14ms/step - loss: 0.0043\n",
            "Epoch 11/65\n",
            "38/38 [==============================] - 1s 14ms/step - loss: 0.0043\n",
            "Epoch 12/65\n",
            "38/38 [==============================] - 1s 14ms/step - loss: 0.0043\n",
            "Epoch 13/65\n",
            "38/38 [==============================] - 1s 14ms/step - loss: 0.0040\n",
            "Epoch 14/65\n",
            "38/38 [==============================] - 1s 14ms/step - loss: 0.0041\n",
            "Epoch 15/65\n",
            "38/38 [==============================] - 1s 14ms/step - loss: 0.0039\n",
            "Epoch 16/65\n",
            "38/38 [==============================] - 1s 14ms/step - loss: 0.0036\n",
            "Epoch 17/65\n",
            "38/38 [==============================] - 1s 14ms/step - loss: 0.0035\n",
            "Epoch 18/65\n",
            "38/38 [==============================] - 1s 13ms/step - loss: 0.0034\n",
            "Epoch 19/65\n",
            "38/38 [==============================] - 1s 14ms/step - loss: 0.0034\n",
            "Epoch 20/65\n",
            "38/38 [==============================] - 1s 14ms/step - loss: 0.0032\n",
            "Epoch 21/65\n",
            "38/38 [==============================] - 1s 14ms/step - loss: 0.0036\n",
            "Epoch 22/65\n",
            "38/38 [==============================] - 1s 14ms/step - loss: 0.0035\n",
            "Epoch 23/65\n",
            "38/38 [==============================] - 1s 14ms/step - loss: 0.0031\n",
            "Epoch 24/65\n",
            "38/38 [==============================] - 1s 13ms/step - loss: 0.0032\n",
            "Epoch 25/65\n",
            "38/38 [==============================] - 1s 13ms/step - loss: 0.0031\n",
            "Epoch 26/65\n",
            "38/38 [==============================] - 1s 13ms/step - loss: 0.0031\n",
            "Epoch 27/65\n",
            "38/38 [==============================] - 1s 14ms/step - loss: 0.0030\n",
            "Epoch 28/65\n",
            "38/38 [==============================] - 1s 14ms/step - loss: 0.0029\n",
            "Epoch 29/65\n",
            "38/38 [==============================] - 1s 14ms/step - loss: 0.0034\n",
            "Epoch 30/65\n",
            "38/38 [==============================] - 1s 14ms/step - loss: 0.0035\n",
            "Epoch 31/65\n",
            "38/38 [==============================] - 1s 14ms/step - loss: 0.0033\n",
            "Epoch 32/65\n",
            "38/38 [==============================] - 1s 14ms/step - loss: 0.0030\n",
            "Epoch 33/65\n",
            "38/38 [==============================] - 1s 15ms/step - loss: 0.0028\n",
            "Epoch 34/65\n",
            "38/38 [==============================] - 1s 13ms/step - loss: 0.0027\n",
            "Epoch 35/65\n",
            "38/38 [==============================] - 1s 13ms/step - loss: 0.0029\n",
            "Epoch 36/65\n",
            "38/38 [==============================] - 1s 14ms/step - loss: 0.0031\n",
            "Epoch 37/65\n",
            "38/38 [==============================] - 1s 14ms/step - loss: 0.0028\n",
            "Epoch 38/65\n",
            "38/38 [==============================] - 1s 14ms/step - loss: 0.0026\n",
            "Epoch 39/65\n",
            "38/38 [==============================] - 1s 14ms/step - loss: 0.0027\n",
            "Epoch 40/65\n",
            "38/38 [==============================] - 1s 14ms/step - loss: 0.0026\n",
            "Epoch 41/65\n",
            "38/38 [==============================] - 1s 14ms/step - loss: 0.0026\n",
            "Epoch 42/65\n",
            "38/38 [==============================] - 1s 14ms/step - loss: 0.0030\n",
            "Epoch 43/65\n",
            "38/38 [==============================] - 1s 14ms/step - loss: 0.0027\n",
            "Epoch 44/65\n",
            "38/38 [==============================] - 1s 14ms/step - loss: 0.0024\n",
            "Epoch 45/65\n",
            "38/38 [==============================] - 1s 14ms/step - loss: 0.0023\n",
            "Epoch 46/65\n",
            "38/38 [==============================] - 1s 14ms/step - loss: 0.0022\n",
            "Epoch 47/65\n",
            "38/38 [==============================] - 1s 14ms/step - loss: 0.0027\n",
            "Epoch 48/65\n",
            "38/38 [==============================] - 1s 14ms/step - loss: 0.0023\n",
            "Epoch 49/65\n",
            "38/38 [==============================] - 1s 14ms/step - loss: 0.0022\n",
            "Epoch 50/65\n",
            "38/38 [==============================] - 1s 14ms/step - loss: 0.0023\n",
            "Epoch 51/65\n",
            "38/38 [==============================] - 1s 13ms/step - loss: 0.0023\n",
            "Epoch 52/65\n",
            "38/38 [==============================] - 1s 14ms/step - loss: 0.0023\n",
            "Epoch 53/65\n",
            "38/38 [==============================] - 1s 14ms/step - loss: 0.0025\n",
            "Epoch 54/65\n",
            "38/38 [==============================] - 1s 14ms/step - loss: 0.0024\n",
            "Epoch 55/65\n",
            "38/38 [==============================] - 1s 14ms/step - loss: 0.0025\n",
            "Epoch 56/65\n",
            "38/38 [==============================] - 1s 13ms/step - loss: 0.0021\n",
            "Epoch 57/65\n",
            "38/38 [==============================] - 1s 14ms/step - loss: 0.0022\n",
            "Epoch 58/65\n",
            "38/38 [==============================] - 1s 15ms/step - loss: 0.0019\n",
            "Epoch 59/65\n",
            "38/38 [==============================] - 1s 13ms/step - loss: 0.0023\n",
            "Epoch 60/65\n",
            "38/38 [==============================] - 1s 28ms/step - loss: 0.0024\n",
            "Epoch 61/65\n",
            "38/38 [==============================] - 1s 26ms/step - loss: 0.0019\n",
            "Epoch 62/65\n",
            "38/38 [==============================] - 1s 28ms/step - loss: 0.0021\n",
            "Epoch 63/65\n",
            "38/38 [==============================] - 1s 14ms/step - loss: 0.0020\n",
            "Epoch 64/65\n",
            "38/38 [==============================] - 1s 14ms/step - loss: 0.0021\n",
            "Epoch 65/65\n",
            "38/38 [==============================] - 1s 13ms/step - loss: 0.0021\n"
          ]
        },
        {
          "output_type": "execute_result",
          "data": {
            "text/plain": [
              "<keras.callbacks.History at 0x7f41af4eeeb0>"
            ]
          },
          "metadata": {},
          "execution_count": 8
        }
      ]
    },
    {
      "cell_type": "code",
      "source": [
        "dataset_test = pd.read_csv('Google_Stock_Price_Test.csv')\n",
        "real_stock_price = dataset_test.iloc[:, 1:2].values\n",
        "dataset_total = pd.concat((dataset_train['Open'], dataset_test['Open']), axis = 0)\n",
        "inputs = dataset_total[len(dataset_total) - len(dataset_test) - 60:].values\n",
        "inputs = inputs.reshape(-1,1)\n",
        "inputs = sc.transform(inputs) # Feature Scaling\n",
        "\n",
        "X_test = []\n",
        "for i in range(60, 80):  # timesteps一樣60； 80 = 先前的60天資料+2017年的20天資料\n",
        "    X_test.append(inputs[i-60:i, 0])\n",
        "X_test = np.array(X_test)\n",
        "X_test = np.reshape(X_test, (X_test.shape[0], X_test.shape[1], 1))  # Reshape 成 3-dimension\n",
        "predicted_stock_price = regressor.predict(X_test)\n",
        "predicted_stock_price = sc.inverse_transform(predicted_stock_price)  # to get the original scale\n"
      ],
      "metadata": {
        "colab": {
          "base_uri": "https://localhost:8080/"
        },
        "id": "wqYjyW78JUgQ",
        "outputId": "d9cf2dcb-7ebb-48a3-96f0-f34fdc868043"
      },
      "execution_count": null,
      "outputs": [
        {
          "output_type": "stream",
          "name": "stdout",
          "text": [
            "1/1 [==============================] - 1s 1s/step\n"
          ]
        }
      ]
    },
    {
      "cell_type": "code",
      "source": [
        "# Importing required libraries\n",
        "import numpy as np\n",
        "import matplotlib.pyplot as plt\n",
        "import pandas as pd\n",
        "from sklearn.preprocessing import MinMaxScaler\n",
        "\n",
        "# Step 1: Load and preprocess your data (this is a summary of previous steps)\n",
        "dataset_train = pd.read_csv('Google_Stock_Price_Train.csv')\n",
        "training_set = dataset_train.iloc[:, 1:2].values\n",
        "\n",
        "sc = MinMaxScaler(feature_range=(0, 1))\n",
        "training_set_scaled = sc.fit_transform(training_set)\n",
        "\n",
        "# Prepare the training data\n",
        "X_train = []\n",
        "y_train = []\n",
        "for i in range(60, len(training_set_scaled)):\n",
        "    X_train.append(training_set_scaled[i-60:i, 0])\n",
        "    y_train.append(training_set_scaled[i, 0])\n",
        "X_train, y_train = np.array(X_train), np.array(y_train)\n",
        "X_train = np.reshape(X_train, (X_train.shape[0], X_train.shape[1], 1))\n",
        "\n",
        "# Step 2: Build and train your model here (assumed you already have a model)\n",
        "\n",
        "# Step 3: Make predictions (assuming you have a trained model)\n",
        "# predicted_stock_price = model.predict(X_test)  # Make sure to create X_test based on your requirements\n",
        "\n",
        "# Inverse scaling the predicted values (assuming you've defined real_stock_price)\n",
        "predicted_stock_price = sc.inverse_transform(predicted_stock_price)  # 反轉縮放\n",
        "\n",
        "# Assume real_stock_price is defined (e.g., the test set values)\n",
        "real_stock_price = pd.read_csv('Google_Stock_Price_Test.csv').iloc[:, 1:2].values\n",
        "real_stock_price = sc.inverse_transform(real_stock_price)  # 反轉縮放\n",
        "\n",
        "# Step 4: Visualising the results\n",
        "plt.figure(figsize=(14, 7))  # 可以調整圖形大小\n",
        "plt.plot(real_stock_price, color='red', label='Real Google Stock Price')  # 紅線表示真實股價\n",
        "plt.plot(predicted_stock_price, color='blue', label='Predicted Google Stock Price')  # 藍線表示預測股價\n",
        "plt.title('Google Stock Price Prediction', fontsize=16)  # 標題\n",
        "plt.xlabel('Time', fontsize=14)  # X 軸標題\n",
        "plt.ylabel('Google Stock Price', fontsize=14)  # Y 軸標題\n",
        "plt.legend()\n",
        "plt.grid()  # 添加網格以提高可讀性\n",
        "plt.show()\n"
      ],
      "metadata": {
        "colab": {
          "base_uri": "https://localhost:8080/",
          "height": 211
        },
        "id": "IySVvld_JbFz",
        "outputId": "c5b3cd3c-e04c-4d5c-dd87-43784eb5e901"
      },
      "execution_count": 3,
      "outputs": [
        {
          "output_type": "error",
          "ename": "NameError",
          "evalue": "name 'predicted_stock_price' is not defined",
          "traceback": [
            "\u001b[0;31m---------------------------------------------------------------------------\u001b[0m",
            "\u001b[0;31mNameError\u001b[0m                                 Traceback (most recent call last)",
            "\u001b[0;32m<ipython-input-3-3edb89bc4fca>\u001b[0m in \u001b[0;36m<cell line: 29>\u001b[0;34m()\u001b[0m\n\u001b[1;32m     27\u001b[0m \u001b[0;34m\u001b[0m\u001b[0m\n\u001b[1;32m     28\u001b[0m \u001b[0;31m# Inverse scaling the predicted values (assuming you've defined real_stock_price)\u001b[0m\u001b[0;34m\u001b[0m\u001b[0;34m\u001b[0m\u001b[0m\n\u001b[0;32m---> 29\u001b[0;31m \u001b[0mpredicted_stock_price\u001b[0m \u001b[0;34m=\u001b[0m \u001b[0msc\u001b[0m\u001b[0;34m.\u001b[0m\u001b[0minverse_transform\u001b[0m\u001b[0;34m(\u001b[0m\u001b[0mpredicted_stock_price\u001b[0m\u001b[0;34m)\u001b[0m  \u001b[0;31m# 反轉縮放\u001b[0m\u001b[0;34m\u001b[0m\u001b[0;34m\u001b[0m\u001b[0m\n\u001b[0m\u001b[1;32m     30\u001b[0m \u001b[0;34m\u001b[0m\u001b[0m\n\u001b[1;32m     31\u001b[0m \u001b[0;31m# Assume real_stock_price is defined (e.g., the test set values)\u001b[0m\u001b[0;34m\u001b[0m\u001b[0;34m\u001b[0m\u001b[0m\n",
            "\u001b[0;31mNameError\u001b[0m: name 'predicted_stock_price' is not defined"
          ]
        }
      ]
    }
  ]
}